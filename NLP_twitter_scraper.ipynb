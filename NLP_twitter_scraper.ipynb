{
  "cells": [
    {
      "cell_type": "code",
      "execution_count": null,
      "metadata": {
        "id": "k31N_Gv4HupM"
      },
      "outputs": [],
      "source": [
        "!pip3 install snscrape"
      ]
    },
    {
      "cell_type": "code",
      "execution_count": 2,
      "metadata": {
        "id": "ERLTBrDWIriN"
      },
      "outputs": [],
      "source": [
        "import pandas as pd\n",
        "import snscrape.modules.twitter as sntwitter\n",
        "import itertools"
      ]
    },
    {
      "cell_type": "markdown",
      "source": [
        ""
      ],
      "metadata": {
        "id": "K51Q5nrq5yCq"
      }
    },
    {
      "cell_type": "code",
      "execution_count": 3,
      "metadata": {
        "id": "vJZNTaMbYGC5"
      },
      "outputs": [],
      "source": [
        "# Extract renewable enegy related tweets for Canada\n",
        "\n",
        "# Creating list to append tweet data to\n",
        "tweets_list2 = []\n",
        "\n",
        "# Using TwitterSearchScraper to scrape data and append tweets to list\n",
        "for i,tweet in enumerate(sntwitter.TwitterSearchScraper('renewable energy, canada since:2017-03-01 until:2022-03-01').get_items()):\n",
        "    if i>10000:\n",
        "        break\n",
        "    tweets_list2.append([tweet.date, tweet.id, tweet.content, tweet.username])\n",
        "    \n",
        "# Creating a dataframe from the tweets list above\n",
        "tweets_df2 = pd.DataFrame(tweets_list2, columns=['Datetime', 'Tweet Id', 'Text', 'Username'])"
      ]
    },
    {
      "cell_type": "code",
      "source": [
        "tweets_df2.shape[0]  # Gives number of rows"
      ],
      "metadata": {
        "id": "Zf6LpynaOinl"
      },
      "execution_count": null,
      "outputs": []
    },
    {
      "cell_type": "markdown",
      "source": [
        "tweets_df2"
      ],
      "metadata": {
        "id": "hazmOhXfMivN"
      }
    },
    {
      "cell_type": "code",
      "source": [
        "# Extract renewable enegy related tweets for Nigeria\n",
        "\n",
        "# Creating list to append tweet data to\n",
        "tweets_list = []\n",
        "\n",
        "# Using TwitterSearchScraper to scrape data and append tweets to list\n",
        "for i,tweet in enumerate(sntwitter.TwitterSearchScraper('renewable energy, nigeria since:2017-03-01 until:2022-03-01').get_items()):\n",
        "    if i>10000:\n",
        "        break\n",
        "    tweets_list.append([tweet.date, tweet.id, tweet.content, tweet.username])\n",
        "    \n",
        "# Creating a dataframe from the tweets list above\n",
        "tweets_df = pd.DataFrame(tweets_list, columns=['Datetime', 'Tweet Id', 'Text', 'Username'])"
      ],
      "metadata": {
        "id": "4YIrCnl7537b"
      },
      "execution_count": 25,
      "outputs": []
    },
    {
      "cell_type": "code",
      "source": [
        "tweets_df"
      ],
      "metadata": {
        "colab": {
          "base_uri": "https://localhost:8080/",
          "height": 423
        },
        "id": "hFtzSIk38OsY",
        "outputId": "6111b4f3-2408-4f2d-98a3-1c554db58437"
      },
      "execution_count": 26,
      "outputs": [
        {
          "output_type": "execute_result",
          "data": {
            "text/plain": [
              "                     Datetime             Tweet Id  \\\n",
              "0   2022-03-08 17:00:24+00:00  1501241435974160394   \n",
              "1   2022-01-20 17:11:37+00:00  1484212026121637892   \n",
              "2   2021-12-20 13:42:04+00:00  1472925270608953344   \n",
              "3   2021-12-17 10:52:25+00:00  1471795413078487044   \n",
              "4   2021-12-06 09:54:51+00:00  1467794659162341378   \n",
              "..                        ...                  ...   \n",
              "418 2015-12-12 14:14:59+00:00   675680248105709568   \n",
              "419 2015-12-12 13:35:56+00:00   675670421916766208   \n",
              "420 2015-11-24 14:37:56+00:00   669163043507539968   \n",
              "421 2014-05-09 12:33:41+00:00   464745018498879488   \n",
              "422 2014-02-17 20:31:42+00:00   435511898591592448   \n",
              "\n",
              "                                                  Text         Username  \n",
              "0    in the energy sector considering Nigeria's NDC...     Ogagbayidayo  \n",
              "1    The 'Etihad 7' programme aims to provide clean...       pamafrica_  \n",
              "2    #CleanEnergyNews📰: #China and #Nigeria partner...     Camco_tweets  \n",
              "3    Working on #renewableenergy, I got to know the...  ahmedabdelatif_  \n",
              "4    #CleanEnergyNews📰: Upgrades to @TranscorpPLC a...      repp_energy  \n",
              "..                                                 ...              ...  \n",
              "418  @AfricaGreenCo @SDGsSaturday @COP21 Peoples of...        Nedifeora  \n",
              "419  @AfricaGreenCo @SDGsSaturday @GreenvestSolar @...        Nedifeora  \n",
              "420  Clean Energy: #Nigeria, Others Attract $126bn ...    Aluko_Oyebode  \n",
              "421  SkyPower Global and FAS #Energy to Build 3,000...     Africa_PEnVC  \n",
              "422  #Nigeria is emerging as a key player on the gl...   Lightworker322  \n",
              "\n",
              "[423 rows x 4 columns]"
            ],
            "text/html": [
              "\n",
              "  <div id=\"df-664266fb-672d-4e53-8c28-ead84b478974\">\n",
              "    <div class=\"colab-df-container\">\n",
              "      <div>\n",
              "<style scoped>\n",
              "    .dataframe tbody tr th:only-of-type {\n",
              "        vertical-align: middle;\n",
              "    }\n",
              "\n",
              "    .dataframe tbody tr th {\n",
              "        vertical-align: top;\n",
              "    }\n",
              "\n",
              "    .dataframe thead th {\n",
              "        text-align: right;\n",
              "    }\n",
              "</style>\n",
              "<table border=\"1\" class=\"dataframe\">\n",
              "  <thead>\n",
              "    <tr style=\"text-align: right;\">\n",
              "      <th></th>\n",
              "      <th>Datetime</th>\n",
              "      <th>Tweet Id</th>\n",
              "      <th>Text</th>\n",
              "      <th>Username</th>\n",
              "    </tr>\n",
              "  </thead>\n",
              "  <tbody>\n",
              "    <tr>\n",
              "      <th>0</th>\n",
              "      <td>2022-03-08 17:00:24+00:00</td>\n",
              "      <td>1501241435974160394</td>\n",
              "      <td>in the energy sector considering Nigeria's NDC...</td>\n",
              "      <td>Ogagbayidayo</td>\n",
              "    </tr>\n",
              "    <tr>\n",
              "      <th>1</th>\n",
              "      <td>2022-01-20 17:11:37+00:00</td>\n",
              "      <td>1484212026121637892</td>\n",
              "      <td>The 'Etihad 7' programme aims to provide clean...</td>\n",
              "      <td>pamafrica_</td>\n",
              "    </tr>\n",
              "    <tr>\n",
              "      <th>2</th>\n",
              "      <td>2021-12-20 13:42:04+00:00</td>\n",
              "      <td>1472925270608953344</td>\n",
              "      <td>#CleanEnergyNews📰: #China and #Nigeria partner...</td>\n",
              "      <td>Camco_tweets</td>\n",
              "    </tr>\n",
              "    <tr>\n",
              "      <th>3</th>\n",
              "      <td>2021-12-17 10:52:25+00:00</td>\n",
              "      <td>1471795413078487044</td>\n",
              "      <td>Working on #renewableenergy, I got to know the...</td>\n",
              "      <td>ahmedabdelatif_</td>\n",
              "    </tr>\n",
              "    <tr>\n",
              "      <th>4</th>\n",
              "      <td>2021-12-06 09:54:51+00:00</td>\n",
              "      <td>1467794659162341378</td>\n",
              "      <td>#CleanEnergyNews📰: Upgrades to @TranscorpPLC a...</td>\n",
              "      <td>repp_energy</td>\n",
              "    </tr>\n",
              "    <tr>\n",
              "      <th>...</th>\n",
              "      <td>...</td>\n",
              "      <td>...</td>\n",
              "      <td>...</td>\n",
              "      <td>...</td>\n",
              "    </tr>\n",
              "    <tr>\n",
              "      <th>418</th>\n",
              "      <td>2015-12-12 14:14:59+00:00</td>\n",
              "      <td>675680248105709568</td>\n",
              "      <td>@AfricaGreenCo @SDGsSaturday @COP21 Peoples of...</td>\n",
              "      <td>Nedifeora</td>\n",
              "    </tr>\n",
              "    <tr>\n",
              "      <th>419</th>\n",
              "      <td>2015-12-12 13:35:56+00:00</td>\n",
              "      <td>675670421916766208</td>\n",
              "      <td>@AfricaGreenCo @SDGsSaturday @GreenvestSolar @...</td>\n",
              "      <td>Nedifeora</td>\n",
              "    </tr>\n",
              "    <tr>\n",
              "      <th>420</th>\n",
              "      <td>2015-11-24 14:37:56+00:00</td>\n",
              "      <td>669163043507539968</td>\n",
              "      <td>Clean Energy: #Nigeria, Others Attract $126bn ...</td>\n",
              "      <td>Aluko_Oyebode</td>\n",
              "    </tr>\n",
              "    <tr>\n",
              "      <th>421</th>\n",
              "      <td>2014-05-09 12:33:41+00:00</td>\n",
              "      <td>464745018498879488</td>\n",
              "      <td>SkyPower Global and FAS #Energy to Build 3,000...</td>\n",
              "      <td>Africa_PEnVC</td>\n",
              "    </tr>\n",
              "    <tr>\n",
              "      <th>422</th>\n",
              "      <td>2014-02-17 20:31:42+00:00</td>\n",
              "      <td>435511898591592448</td>\n",
              "      <td>#Nigeria is emerging as a key player on the gl...</td>\n",
              "      <td>Lightworker322</td>\n",
              "    </tr>\n",
              "  </tbody>\n",
              "</table>\n",
              "<p>423 rows × 4 columns</p>\n",
              "</div>\n",
              "      <button class=\"colab-df-convert\" onclick=\"convertToInteractive('df-664266fb-672d-4e53-8c28-ead84b478974')\"\n",
              "              title=\"Convert this dataframe to an interactive table.\"\n",
              "              style=\"display:none;\">\n",
              "        \n",
              "  <svg xmlns=\"http://www.w3.org/2000/svg\" height=\"24px\"viewBox=\"0 0 24 24\"\n",
              "       width=\"24px\">\n",
              "    <path d=\"M0 0h24v24H0V0z\" fill=\"none\"/>\n",
              "    <path d=\"M18.56 5.44l.94 2.06.94-2.06 2.06-.94-2.06-.94-.94-2.06-.94 2.06-2.06.94zm-11 1L8.5 8.5l.94-2.06 2.06-.94-2.06-.94L8.5 2.5l-.94 2.06-2.06.94zm10 10l.94 2.06.94-2.06 2.06-.94-2.06-.94-.94-2.06-.94 2.06-2.06.94z\"/><path d=\"M17.41 7.96l-1.37-1.37c-.4-.4-.92-.59-1.43-.59-.52 0-1.04.2-1.43.59L10.3 9.45l-7.72 7.72c-.78.78-.78 2.05 0 2.83L4 21.41c.39.39.9.59 1.41.59.51 0 1.02-.2 1.41-.59l7.78-7.78 2.81-2.81c.8-.78.8-2.07 0-2.86zM5.41 20L4 18.59l7.72-7.72 1.47 1.35L5.41 20z\"/>\n",
              "  </svg>\n",
              "      </button>\n",
              "      \n",
              "  <style>\n",
              "    .colab-df-container {\n",
              "      display:flex;\n",
              "      flex-wrap:wrap;\n",
              "      gap: 12px;\n",
              "    }\n",
              "\n",
              "    .colab-df-convert {\n",
              "      background-color: #E8F0FE;\n",
              "      border: none;\n",
              "      border-radius: 50%;\n",
              "      cursor: pointer;\n",
              "      display: none;\n",
              "      fill: #1967D2;\n",
              "      height: 32px;\n",
              "      padding: 0 0 0 0;\n",
              "      width: 32px;\n",
              "    }\n",
              "\n",
              "    .colab-df-convert:hover {\n",
              "      background-color: #E2EBFA;\n",
              "      box-shadow: 0px 1px 2px rgba(60, 64, 67, 0.3), 0px 1px 3px 1px rgba(60, 64, 67, 0.15);\n",
              "      fill: #174EA6;\n",
              "    }\n",
              "\n",
              "    [theme=dark] .colab-df-convert {\n",
              "      background-color: #3B4455;\n",
              "      fill: #D2E3FC;\n",
              "    }\n",
              "\n",
              "    [theme=dark] .colab-df-convert:hover {\n",
              "      background-color: #434B5C;\n",
              "      box-shadow: 0px 1px 3px 1px rgba(0, 0, 0, 0.15);\n",
              "      filter: drop-shadow(0px 1px 2px rgba(0, 0, 0, 0.3));\n",
              "      fill: #FFFFFF;\n",
              "    }\n",
              "  </style>\n",
              "\n",
              "      <script>\n",
              "        const buttonEl =\n",
              "          document.querySelector('#df-664266fb-672d-4e53-8c28-ead84b478974 button.colab-df-convert');\n",
              "        buttonEl.style.display =\n",
              "          google.colab.kernel.accessAllowed ? 'block' : 'none';\n",
              "\n",
              "        async function convertToInteractive(key) {\n",
              "          const element = document.querySelector('#df-664266fb-672d-4e53-8c28-ead84b478974');\n",
              "          const dataTable =\n",
              "            await google.colab.kernel.invokeFunction('convertToInteractive',\n",
              "                                                     [key], {});\n",
              "          if (!dataTable) return;\n",
              "\n",
              "          const docLinkHtml = 'Like what you see? Visit the ' +\n",
              "            '<a target=\"_blank\" href=https://colab.research.google.com/notebooks/data_table.ipynb>data table notebook</a>'\n",
              "            + ' to learn more about interactive tables.';\n",
              "          element.innerHTML = '';\n",
              "          dataTable['output_type'] = 'display_data';\n",
              "          await google.colab.output.renderOutput(dataTable, element);\n",
              "          const docLink = document.createElement('div');\n",
              "          docLink.innerHTML = docLinkHtml;\n",
              "          element.appendChild(docLink);\n",
              "        }\n",
              "      </script>\n",
              "    </div>\n",
              "  </div>\n",
              "  "
            ]
          },
          "metadata": {},
          "execution_count": 26
        }
      ]
    },
    {
      "cell_type": "code",
      "source": [
        "# Minimum and Maximum dates for extracted tweets\n",
        "\n",
        "print(min(tweets_df2['Datetime']))\n",
        "print(max(tweets_df2['Datetime']))\n",
        "print(min(tweets_df['Datetime']))\n",
        "print(max(tweets_df['Datetime']))"
      ],
      "metadata": {
        "id": "VXdbHFZgaAw0"
      },
      "execution_count": null,
      "outputs": []
    },
    {
      "cell_type": "code",
      "source": [
        "# Remove timezones\n",
        "\n",
        "tweets_df2['Datetime']=tweets_df2['Datetime'].dt.tz_localize(None)\n",
        "tweets_df['Datetime']=tweets_df['Datetime'].dt.tz_localize(None)"
      ],
      "metadata": {
        "id": "66HdH4bpYb_s"
      },
      "execution_count": 27,
      "outputs": []
    },
    {
      "cell_type": "code",
      "source": [
        "# Export as Excel file\n",
        "\n",
        "tweets_df.to_excel (r'renewable_nigeria.xlsx', index = False, header=True)\n",
        "tweets_df2.to_excel (r'renewable_canada.xlsx', index = False, header=True)"
      ],
      "metadata": {
        "id": "4VUxuiNbGvMy"
      },
      "execution_count": null,
      "outputs": []
    },
    {
      "cell_type": "markdown",
      "source": [
        ""
      ],
      "metadata": {
        "id": "bq2Hgk40Xxv7"
      }
    }
  ],
  "metadata": {
    "colab": {
      "name": "NLP_twitter_scraper",
      "provenance": []
    },
    "kernelspec": {
      "display_name": "Python 3",
      "name": "python3"
    },
    "language_info": {
      "name": "python"
    }
  },
  "nbformat": 4,
  "nbformat_minor": 0
}